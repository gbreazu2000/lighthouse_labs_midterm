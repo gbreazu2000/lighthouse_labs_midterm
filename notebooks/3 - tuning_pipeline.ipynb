{
 "cells": [
  {
   "cell_type": "markdown",
   "metadata": {},
   "source": [
    "Now that we know which models are performing better, it's time to perform cross validation and tune hyperparameters.\n",
    "- Do a google search for hyperparameter ranges for each type of model.\n",
    "\n",
    "GridSearch/RandomSearch are a great methods for checking off both of these tasks.\n",
    "- BUT we have a problem - if we calculated a numerical value to encode city (such as the mean of sale prices in that city) on the training data, we can't cross validate \n",
    "- The rows in each validation fold were part of the original calculation of the mean for that city - that means we're leaking information!\n",
    "- While sklearn's built in functions are extremely useful, sometimes it is necessary to do things ourselves\n",
    "\n",
    "You need to create two functions to replicate what Gridsearch does under the hood\n",
    "\n",
    "**`custom_cross_validation()`**\n",
    "- Should take the training data, and divide it into multiple train/validation splits. \n",
    "- Look into `sklearn.model_selection.KFold` to accomplish this - the [documentation](https://scikit-learn.org/stable/modules/generated/sklearn.model_selection.KFold.html) shows how to split a dataframe and loop through the indexes of your split data. \n",
    "- Within your function, you should compute the city means on the training folds just like you did in Notebook 1 - you may have to re-join the city column to do this - and then join these values to the validation fold\n",
    "\n",
    "**`hyperparameter_search()`**\n",
    "- Should take the validation and training splits from your previous function, along with your dictionary of hyperparameter values\n",
    "- For each set of hyperparameter values, fit your chosen model on each set of training folds, and take the average of your chosen scoring metric. [itertools.product()](https://docs.python.org/3/library/itertools.html) will be helpful for looping through all combinations of hyperparameter values\n",
    "- Your function should output the hyperparameter values corresponding the highest average score across all folds. Alternatively, it could also output a model object fit on the full training dataset with these parameters.\n",
    "\n",
    "Docstrings have been provided below to get you started. Once you're done developing your functions, you should move them to `functions_variables.py` to keep your notebook clean \n",
    "\n",
    "Bear in mind that these instructions are just one way to tackle this problem - the inputs and output formats don't need to be exactly as specified here."
   ]
  },
  {
   "cell_type": "code",
   "execution_count": null,
   "metadata": {},
   "outputs": [],
   "source": [
    "# develop your custom functions here\n",
    "\n",
    "def custom_cross_validation(training_data, n_splits =5):\n",
    "    '''creates n_splits sets of training and validation folds\n",
    "\n",
    "    Args:\n",
    "      training_data: the dataframe of features and target to be divided into folds\n",
    "      n_splits: the number of sets of folds to be created\n",
    "\n",
    "    Returns:\n",
    "      A tuple of lists, where the first index is a list of the training folds, \n",
    "      and the second the corresponding validation fold\n",
    "\n",
    "    Example:\n",
    "        >>> output = custom_cross_validation(train_df, n_splits = 10)\n",
    "        >>> output[0][0] # The first training fold\n",
    "        >>> output[1][0] # The first validation fold\n",
    "        >>> output[0][1] # The second training fold\n",
    "        >>> output[1][1] # The second validation fold... etc.\n",
    "    '''\n",
    "\n",
    "    return training_folds, validation_folds\n",
    "\n",
    "def hyperparameter_search(training_folds, validation_folds, param_grid):\n",
    "    '''outputs the best combination of hyperparameter settings in the param grid, \n",
    "    given the training and validation folds\n",
    "\n",
    "    Args:\n",
    "      training_folds: the list of training fold dataframes\n",
    "      validation_folds: the list of validation fold dataframes\n",
    "      param_grid: the dictionary of possible hyperparameter values for the chosen model\n",
    "\n",
    "    Returns:\n",
    "      A list of the best hyperparameter settings based on the chosen metric\n",
    "\n",
    "    Example:\n",
    "        >>> param_grid = {\n",
    "          'max_depth': [None, 10, 20, 30],\n",
    "          'min_samples_split': [2, 5, 10],\n",
    "          'min_samples_leaf': [1, 2, 4],\n",
    "          'max_features': ['sqrt', 'log2']} # for random forest\n",
    "        >>> hyperparameter_search(output[0], output[1], param_grid = param_grid) \n",
    "        # assuming 'ouput' is the output of custom_cross_validation()\n",
    "        [20, 5, 2, 'log2'] # hyperparams in order\n",
    "    '''\n",
    "\n",
    "    return hyperparameters\n"
   ]
  },
  {
   "cell_type": "code",
   "execution_count": null,
   "metadata": {},
   "outputs": [],
   "source": [
    "# perform tuning and cross validation here"
   ]
  },
  {
   "cell_type": "code",
   "execution_count": 4,
   "metadata": {},
   "outputs": [],
   "source": [
    "from sklearn.ensemble import RandomForestRegressor\n",
    "import pandas as pd\n",
    "import numpy as np"
   ]
  },
  {
   "cell_type": "code",
   "execution_count": 27,
   "metadata": {},
   "outputs": [],
   "source": [
    "data = pd.read_csv('model_df.csv')"
   ]
  },
  {
   "cell_type": "code",
   "execution_count": 30,
   "metadata": {},
   "outputs": [],
   "source": [
    "from sklearn.model_selection import KFold\n",
    "\n",
    "#Split the data into 5 folds\n",
    "def custom_cross_validation(training_data, n_splits=5):\n",
    "    kf = KFold(n_splits=n_splits, shuffle=True, random_state=42)\n",
    "    training_folds = []\n",
    "    validation_folds = []\n",
    "\n",
    "    for train_index, val_index in kf.split(training_data):\n",
    "        train_fold = training_data.iloc[train_index]\n",
    "        val_fold = training_data.iloc[val_index]\n",
    "\n",
    "        # Append folds to the respective lists\n",
    "        training_folds.append(train_fold)\n",
    "        validation_folds.append(val_fold)\n",
    "\n",
    "    return training_folds, validation_folds"
   ]
  },
  {
   "cell_type": "code",
   "execution_count": 31,
   "metadata": {},
   "outputs": [],
   "source": [
    "from sklearn.metrics import mean_absolute_error\n",
    "from itertools import product\n",
    "\n",
    "def hyperparameter_search(training_folds, validation_folds, param_grid, evaluation_metric):\n",
    "    best_hyperparameters = None\n",
    "    best_score = float('-inf')  # Initialize with a very low value\n",
    "\n",
    "    # Generate all combinations of hyperparameters\n",
    "    hyperparameter_combinations = list(product(*param_grid.values()))\n",
    "\n",
    "    for hyperparams in hyperparameter_combinations:\n",
    "        fold_scores = []\n",
    "        \n",
    "        # Create and train the model using the current hyperparameters\n",
    "        for i in range(len(training_folds)):\n",
    "            model = RandomForestRegressor(**dict(zip(param_grid.keys(), hyperparams)))\n",
    "            model.fit(training_folds[i].drop(columns=['description.sold_price']), training_folds[i]['description.sold_price'])\n",
    "\n",
    "            # Make predictions on the validation set\n",
    "            predictions = model.predict(validation_folds[i].drop(columns=['description.sold_price']))\n",
    "            score = evaluation_metric(validation_folds[i]['description.sold_price'], predictions)\n",
    "\n",
    "            fold_scores.append(score)\n",
    "\n",
    "        # Calculate the average score across all folds\n",
    "        average_score = sum(fold_scores) / len(fold_scores)\n",
    "        \n",
    "        # Update best hyperparameters if the current combination is better\n",
    "        if average_score > best_score:\n",
    "            best_score = average_score\n",
    "            best_hyperparameters = hyperparams\n",
    "\n",
    "    return best_hyperparameters"
   ]
  },
  {
   "cell_type": "code",
   "execution_count": 33,
   "metadata": {},
   "outputs": [
    {
     "name": "stdout",
     "output_type": "stream",
     "text": [
      "Best Hyperparameters: (10, 10, 4, 'log2')\n"
     ]
    }
   ],
   "source": [
    "param_grid = {\n",
    "    'max_depth': [None, 10, 20, 30],\n",
    "    'min_samples_split': [2, 5, 10],\n",
    "    'min_samples_leaf': [1, 2, 4],\n",
    "    'max_features': ['sqrt', 'log2']\n",
    "}\n",
    "\n",
    "output = custom_cross_validation(data, n_splits=5)\n",
    "best_hyperparameters = hyperparameter_search(output[0], output[1], param_grid=param_grid, evaluation_metric=mean_absolute_error)\n",
    "\n",
    "print(\"Best Hyperparameters:\", best_hyperparameters)"
   ]
  },
  {
   "cell_type": "markdown",
   "metadata": {},
   "source": [
    "We want to make sure that we save our models.  In the old days, one just simply pickled (serialized) the model.  Now, however, certain model types have their own save format.  If the model is from sklearn, it can be pickled, if it's xgboost, for example, the newest format to save it in is JSON, but it can also be pickled.  It's a good idea to stay with the most current methods. \n",
    "- you may want to create a new `models/` subdirectory in your repo to stay organized"
   ]
  },
  {
   "cell_type": "code",
   "execution_count": null,
   "metadata": {},
   "outputs": [],
   "source": [
    "# save your best model here"
   ]
  },
  {
   "cell_type": "markdown",
   "metadata": {},
   "source": [
    "Once you've identified which model works the best, implement a prediction pipeline to make sure that you haven't leaked any data, and that the model could be easily deployed if desired.\n",
    "- Your pipeline should load the data, process it, load your saved tuned model, and output a set of predictions\n",
    "- Assume that the new data is in the same JSON format as your original data - you can use your original data to check that the pipeline works correctly\n",
    "- Beware that a pipeline can only handle functions with fit and transform methods.\n",
    "- Classes can be used to get around this, but now sklearn has a wrapper for user defined functions.\n",
    "- You can develop your functions or classes in the notebook here, but once they are working, you should import them from `functions_variables.py` "
   ]
  },
  {
   "cell_type": "code",
   "execution_count": 35,
   "metadata": {},
   "outputs": [
    {
     "name": "stdout",
     "output_type": "stream",
     "text": [
      "{'max_depth': 10, 'min_samples_split': 10, 'min_samples_leaf': 4, 'max_features': 'log2'}\n"
     ]
    }
   ],
   "source": [
    "#Assuming the order of hyperparameters in the tuple is known and fixed\n",
    "hyperparameter_names = ['max_depth', 'min_samples_split', 'min_samples_leaf', 'max_features']\n",
    "best_hyperparameters_dict = dict(zip(hyperparameter_names, best_hyperparameters))\n",
    "\n",
    "print(best_hyperparameters_dict)\n",
    "\n",
    "#Load the data\n",
    "data = pd.read_csv('model_df.csv')\n",
    "\n",
    "#Set 'y' as the target variable\n",
    "y = data['description.sold_price']\n",
    "\n",
    "#Set 'X' as all other columns except the target variable\n",
    "X = data.drop(columns=['description.sold_price'])"
   ]
  },
  {
   "cell_type": "code",
   "execution_count": 38,
   "metadata": {},
   "outputs": [],
   "source": [
    "from sklearn.pipeline import Pipeline\n",
    "from sklearn.ensemble import RandomForestRegressor\n",
    "from sklearn.preprocessing import StandardScaler\n",
    "import pickle\n",
    "import os\n",
    "\n",
    "#Use the newly created dictionary for hyperparameters\n",
    "pipeline_steps = [\n",
    "\n",
    "    ('regressor', RandomForestRegressor(max_depth=best_hyperparameters_dict['max_depth'],\n",
    "                                        min_samples_split=best_hyperparameters_dict['min_samples_split'],\n",
    "                                        min_samples_leaf=best_hyperparameters_dict['min_samples_leaf'],\n",
    "                                        max_features=best_hyperparameters_dict['max_features']))\n",
    "]\n",
    "\n",
    "#Create and fit the pipeline\n",
    "pipeline = Pipeline(steps=pipeline_steps)\n",
    "pipeline.fit(X, y)  # Assuming 'X' and 'y' are your features and target variable\n",
    "\n",
    "#Save the pipeline\n",
    "if not os.path.exists('models'):\n",
    "    os.makedirs('models')\n",
    "\n",
    "with open('models/final_model_pipeline.pkl', 'wb') as file:\n",
    "    pickle.dump(pipeline, file)"
   ]
  },
  {
   "cell_type": "markdown",
   "metadata": {},
   "source": [
    "Pipelines come from sklearn.  When a pipeline is pickled, all of the information in the pipeline is stored with it.  For example, if we were deploying a model, and we had fit a scaler on the training data, we would want the same, already fitted scaling object to transform the new data with.  This is all stored when the pipeline is pickled.\n",
    "- save your final pipeline in your `models/` folder"
   ]
  },
  {
   "cell_type": "code",
   "execution_count": null,
   "metadata": {},
   "outputs": [],
   "source": [
    "# save your pipeline here"
   ]
  }
 ],
 "metadata": {
  "kernelspec": {
   "display_name": "Python 3",
   "language": "python",
   "name": "python3"
  },
  "language_info": {
   "codemirror_mode": {
    "name": "ipython",
    "version": 3
   },
   "file_extension": ".py",
   "mimetype": "text/x-python",
   "name": "python",
   "nbconvert_exporter": "python",
   "pygments_lexer": "ipython3",
   "version": "3.9.15"
  }
 },
 "nbformat": 4,
 "nbformat_minor": 2
}
